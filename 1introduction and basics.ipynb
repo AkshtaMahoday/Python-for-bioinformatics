{
 "cells": [
  {
   "cell_type": "code",
   "execution_count": 31,
   "metadata": {},
   "outputs": [],
   "source": [
    "#why python\n",
    "#code syntax is easy\n",
    "#code is english type, easy to remember\n",
    "#code development is easy \n",
    "#no compilation \n",
    "#it is a interpretar language\n",
    "#readymade libraries more than 1 lakh called modulesused in heavy fields of like data science bcz of ecosystem environments like jupyter notebook\n",
    "#also called dynamic language bcz in this you can change the type of the variable easily but in languages like c and java you have to assign the data type to the variable and then you cantchange the data type.\n",
    "\n",
    "\n",
    "    \n"
   ]
  },
  {
   "cell_type": "code",
   "execution_count": 50,
   "metadata": {},
   "outputs": [
    {
     "name": "stdout",
     "output_type": "stream",
     "text": [
      "1100\n"
     ]
    },
    {
     "data": {
      "text/plain": [
       "int"
      ]
     },
     "execution_count": 50,
     "metadata": {},
     "output_type": "execute_result"
    }
   ],
   "source": [
    "#single variable called data contatiner which contain a value\n",
    "salary=500\n",
    "salary1=600 \n",
    "total=salary+salary1\n",
    "print(total)\n",
    "#to know the datatype of the variable\n",
    "type(total)\n",
    "type(salary)"
   ]
  },
  {
   "cell_type": "code",
   "execution_count": 39,
   "metadata": {},
   "outputs": [
    {
     "name": "stdout",
     "output_type": "stream",
     "text": [
      "and,true,assert,break,class,def,del,elif,else,except,exec,finally ,for,from,global,if,import,in,is,lambda,not,or pass,print,raise,return,try,while,with,yield, underscore with letter can work.\n"
     ]
    }
   ],
   "source": [
    "#we can not use reverse keywords for python\n",
    "#like\n",
    "reservekeywords=( \"and,true,assert,break,class,def,del,elif,else,except,exec,finally \\\n",
    ",for,from,global,if,import,in,is,lambda,not,or \\\n",
    "pass,print,raise,return,try,while,with,yield, underscore with letter can work.\")\n",
    "reservekeywords.split('\"\"')\n",
    "print(reservekeywords)\n"
   ]
  },
  {
   "cell_type": "code",
   "execution_count": 88,
   "metadata": {},
   "outputs": [
    {
     "ename": "SyntaxError",
     "evalue": "invalid syntax (<ipython-input-88-ce5c581916b3>, line 3)",
     "output_type": "error",
     "traceback": [
      "\u001b[1;36m  File \u001b[1;32m\"<ipython-input-88-ce5c581916b3>\"\u001b[1;36m, line \u001b[1;32m3\u001b[0m\n\u001b[1;33m    break = 5;\u001b[0m\n\u001b[1;37m          ^\u001b[0m\n\u001b[1;31mSyntaxError\u001b[0m\u001b[1;31m:\u001b[0m invalid syntax\n"
     ]
    }
   ],
   "source": [
    "#excercise on variable\n",
    "#1.create a varible called break and assign it 5\n",
    "break = 5;\n",
    "# bcz break is a reserved keyword"
   ]
  },
  {
   "cell_type": "code",
   "execution_count": 90,
   "metadata": {},
   "outputs": [
    {
     "name": "stdout",
     "output_type": "stream",
     "text": [
      "22\n"
     ]
    }
   ],
   "source": [
    "#calculate your age by creating 2 variables, one of birth year and 2nd of current year\n",
    "old=1999\n",
    "current=2021\n",
    "age=current-old\n",
    "print(age)"
   ]
  },
  {
   "cell_type": "code",
   "execution_count": 101,
   "metadata": {},
   "outputs": [
    {
     "name": "stdout",
     "output_type": "stream",
     "text": [
      "my full name is: akshta ajay mahoday\n"
     ]
    }
   ],
   "source": [
    "#store your first,middle, last name in three variables and join them to print full name\n",
    "x=\"akshta\";\n",
    "x1=\"ajay\";\n",
    "x3=\"mahoday\";\n",
    "print(\"my full name is:\",x,x1,x3)"
   ]
  },
  {
   "cell_type": "code",
   "execution_count": 100,
   "metadata": {},
   "outputs": [
    {
     "ename": "SyntaxError",
     "evalue": "can't assign to operator (<ipython-input-100-3664b4c994e7>, line 16)",
     "output_type": "error",
     "traceback": [
      "\u001b[1;36m  File \u001b[1;32m\"<ipython-input-100-3664b4c994e7>\"\u001b[1;36m, line \u001b[1;32m16\u001b[0m\n\u001b[1;33m    record*one=4\u001b[0m\n\u001b[1;37m                ^\u001b[0m\n\u001b[1;31mSyntaxError\u001b[0m\u001b[1;31m:\u001b[0m can't assign to operator\n"
     ]
    }
   ],
   "source": [
    "#find out the wrong variables\n",
    "_nation=0\n",
    "print(_nation)\n",
    "#this is correct\n",
    "\n",
    "#1record=1\n",
    "#print(1record)yes this is wrong\n",
    "\n",
    "record1=2\n",
    "print(record1)\n",
    "#yes this is correct\n",
    "\n",
    "#record-1=3\n",
    "#print(record-1) yes this is wrong\n",
    "\n",
    "#record*one=4\n",
    "#print(record*one) yes this is also wrong\n",
    "\n",
    "#wrong bcz most of them are uses special characters.\n"
   ]
  },
  {
   "cell_type": "code",
   "execution_count": 1,
   "metadata": {},
   "outputs": [
    {
     "name": "stdout",
     "output_type": "stream",
     "text": [
      "maskatlllaftllfatcia\n",
      "MASKATLLLAFTLLFATCIA\n"
     ]
    }
   ],
   "source": [
    "peptideseq = \"MASKATLLLAFTLLFATCIA\";\n",
    "print(peptideseq.lower())\n",
    "x=peptideseq.upper()\n",
    "print(x)"
   ]
  },
  {
   "cell_type": "code",
   "execution_count": 14,
   "metadata": {},
   "outputs": [
    {
     "name": "stdout",
     "output_type": "stream",
     "text": [
      "GCUAGUAAUGUGUGUGCUCCGCUCGCUCGUCGCUAAGAGCUCGCUCGUCGC\n"
     ]
    }
   ],
   "source": [
    "dna_seq = \"GCTAGTAATGTGTGTGCTCCGCTCGCTCGTCGCTAAGAGCTCGCTCGTCGC\"\n",
    "#replace t to u\n",
    "rna_seq=(dna_seq.replace(\"T\",\"U\"))\n",
    "print(rna_seq)"
   ]
  },
  {
   "cell_type": "code",
   "execution_count": 19,
   "metadata": {},
   "outputs": [
    {
     "name": "stdout",
     "output_type": "stream",
     "text": [
      "(6, 14, 16, 15)\n"
     ]
    }
   ],
   "source": [
    "C=dna_seq.count(\"C\");\n",
    "A=dna_seq.count(\"A\");\n",
    "T=dna_seq.count(\"T\");\n",
    "G=dna_seq.count(\"G\");\n",
    "totalcount=A,T,C,G;\n",
    "print(totalcount)"
   ]
  },
  {
   "cell_type": "code",
   "execution_count": 20,
   "metadata": {},
   "outputs": [
    {
     "data": {
      "text/plain": [
       "51"
      ]
     },
     "execution_count": 20,
     "metadata": {},
     "output_type": "execute_result"
    }
   ],
   "source": [
    "#recount\n",
    "A+T+C+G"
   ]
  },
  {
   "cell_type": "code",
   "execution_count": 23,
   "metadata": {},
   "outputs": [
    {
     "name": "stdout",
     "output_type": "stream",
     "text": [
      "60.78431372549019\n"
     ]
    }
   ],
   "source": [
    "#gc %\n",
    "gcprcnt=(G+C)/len(dna_seq)*100\n",
    "print(gcprcnt)"
   ]
  },
  {
   "cell_type": "code",
   "execution_count": 33,
   "metadata": {},
   "outputs": [
    {
     "name": "stdout",
     "output_type": "stream",
     "text": [
      "22\n"
     ]
    },
    {
     "data": {
      "text/plain": [
       "-1"
      ]
     },
     "execution_count": 33,
     "metadata": {},
     "output_type": "execute_result"
    }
   ],
   "source": [
    "#find function BY FIND FUNCTION\n",
    "X=dna_seq.find(\"TCG\")\n",
    "print(X)\n",
    "dna_seq.find(\"abc\")"
   ]
  },
  {
   "cell_type": "code",
   "execution_count": 32,
   "metadata": {},
   "outputs": [
    {
     "name": "stdout",
     "output_type": "stream",
     "text": [
      "22\n"
     ]
    },
    {
     "ename": "ValueError",
     "evalue": "substring not found",
     "output_type": "error",
     "traceback": [
      "\u001b[1;31m---------------------------------------------------------------------------\u001b[0m",
      "\u001b[1;31mValueError\u001b[0m                                Traceback (most recent call last)",
      "\u001b[1;32m<ipython-input-32-ebb88bb047f8>\u001b[0m in \u001b[0;36m<module>\u001b[1;34m\u001b[0m\n\u001b[0;32m      1\u001b[0m \u001b[0mX\u001b[0m\u001b[1;33m=\u001b[0m\u001b[0mdna_seq\u001b[0m\u001b[1;33m.\u001b[0m\u001b[0mindex\u001b[0m\u001b[1;33m(\u001b[0m\u001b[1;34m\"TCG\"\u001b[0m\u001b[1;33m)\u001b[0m\u001b[1;33m\u001b[0m\u001b[1;33m\u001b[0m\u001b[0m\n\u001b[0;32m      2\u001b[0m \u001b[0mprint\u001b[0m\u001b[1;33m(\u001b[0m\u001b[0mX\u001b[0m\u001b[1;33m)\u001b[0m\u001b[1;33m\u001b[0m\u001b[1;33m\u001b[0m\u001b[0m\n\u001b[1;32m----> 3\u001b[1;33m \u001b[0mdna_seq\u001b[0m\u001b[1;33m.\u001b[0m\u001b[0mindex\u001b[0m\u001b[1;33m(\u001b[0m\u001b[1;34m\"abc\"\u001b[0m\u001b[1;33m)\u001b[0m\u001b[1;33m\u001b[0m\u001b[1;33m\u001b[0m\u001b[0m\n\u001b[0m",
      "\u001b[1;31mValueError\u001b[0m: substring not found"
     ]
    }
   ],
   "source": [
    "#find something by index function\n",
    "X=dna_seq.index(\"TCG\")\n",
    "print(X)\n",
    "dna_seq.index(\"abc\")"
   ]
  },
  {
   "cell_type": "code",
   "execution_count": 34,
   "metadata": {},
   "outputs": [
    {
     "data": {
      "text/plain": [
       "['GCTAGTAATGTGTGTGCTCCGCTCGCTCGTCGCTAAGAGCTCGCTCGTCGC']"
      ]
     },
     "execution_count": 34,
     "metadata": {},
     "output_type": "execute_result"
    }
   ],
   "source": [
    "dna_seq.split()"
   ]
  },
  {
   "cell_type": "code",
   "execution_count": 36,
   "metadata": {},
   "outputs": [
    {
     "data": {
      "text/plain": [
       "['__add__',\n",
       " '__class__',\n",
       " '__contains__',\n",
       " '__delattr__',\n",
       " '__dir__',\n",
       " '__doc__',\n",
       " '__eq__',\n",
       " '__format__',\n",
       " '__ge__',\n",
       " '__getattribute__',\n",
       " '__getitem__',\n",
       " '__getnewargs__',\n",
       " '__gt__',\n",
       " '__hash__',\n",
       " '__init__',\n",
       " '__init_subclass__',\n",
       " '__iter__',\n",
       " '__le__',\n",
       " '__len__',\n",
       " '__lt__',\n",
       " '__mod__',\n",
       " '__mul__',\n",
       " '__ne__',\n",
       " '__new__',\n",
       " '__reduce__',\n",
       " '__reduce_ex__',\n",
       " '__repr__',\n",
       " '__rmod__',\n",
       " '__rmul__',\n",
       " '__setattr__',\n",
       " '__sizeof__',\n",
       " '__str__',\n",
       " '__subclasshook__',\n",
       " 'capitalize',\n",
       " 'casefold',\n",
       " 'center',\n",
       " 'count',\n",
       " 'encode',\n",
       " 'endswith',\n",
       " 'expandtabs',\n",
       " 'find',\n",
       " 'format',\n",
       " 'format_map',\n",
       " 'index',\n",
       " 'isalnum',\n",
       " 'isalpha',\n",
       " 'isascii',\n",
       " 'isdecimal',\n",
       " 'isdigit',\n",
       " 'isidentifier',\n",
       " 'islower',\n",
       " 'isnumeric',\n",
       " 'isprintable',\n",
       " 'isspace',\n",
       " 'istitle',\n",
       " 'isupper',\n",
       " 'join',\n",
       " 'ljust',\n",
       " 'lower',\n",
       " 'lstrip',\n",
       " 'maketrans',\n",
       " 'partition',\n",
       " 'replace',\n",
       " 'rfind',\n",
       " 'rindex',\n",
       " 'rjust',\n",
       " 'rpartition',\n",
       " 'rsplit',\n",
       " 'rstrip',\n",
       " 'split',\n",
       " 'splitlines',\n",
       " 'startswith',\n",
       " 'strip',\n",
       " 'swapcase',\n",
       " 'title',\n",
       " 'translate',\n",
       " 'upper',\n",
       " 'zfill']"
      ]
     },
     "execution_count": 36,
     "metadata": {},
     "output_type": "execute_result"
    }
   ],
   "source": [
    "dir(str)"
   ]
  },
  {
   "cell_type": "code",
   "execution_count": 41,
   "metadata": {},
   "outputs": [
    {
     "name": "stdout",
     "output_type": "stream",
     "text": [
      "['add acdg jsgkh fhghfkj jghdfh gkjhdgh kjfdhkh sdfgsg']\n"
     ]
    }
   ],
   "source": [
    "content=\"add acdg jsgkh fhghfkj jghdfh gkjhdgh kjfdhkh sdfgsg\";\n",
    "print(content.split('\"\"'))"
   ]
  }
 ],
 "metadata": {
  "kernelspec": {
   "display_name": "Python 3",
   "language": "python",
   "name": "python3"
  },
  "language_info": {
   "codemirror_mode": {
    "name": "ipython",
    "version": 3
   },
   "file_extension": ".py",
   "mimetype": "text/x-python",
   "name": "python",
   "nbconvert_exporter": "python",
   "pygments_lexer": "ipython3",
   "version": "3.7.6"
  }
 },
 "nbformat": 4,
 "nbformat_minor": 4
}

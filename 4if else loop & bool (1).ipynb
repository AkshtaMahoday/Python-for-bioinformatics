{
 "cells": [
  {
   "cell_type": "code",
   "execution_count": null,
   "metadata": {},
   "outputs": [],
   "source": [
    "#to control the flow of code "
   ]
  },
  {
   "cell_type": "code",
   "execution_count": null,
   "metadata": {},
   "outputs": [],
   "source": [
    "n=10;\n",
    "if n%2==0:\n",
    "    print(\"number is even\")\n",
    "else:\n",
    "    print(\"number is odd\")"
   ]
  },
  {
   "cell_type": "code",
   "execution_count": 25,
   "metadata": {},
   "outputs": [
    {
     "name": "stdout",
     "output_type": "stream",
     "text": [
      "it may be five\n",
      "or it may be more than five\n"
     ]
    }
   ],
   "source": [
    "#steps of applying if else loop in python \n",
    "#1st write your varible with value in it\n",
    "#2nd then give if condition\n",
    "#Condition must be a condition that returns True or False.\n",
    "#3rd now give statement for your condition(as many you want) \n",
    "#4th now give statement for your condition(as many you want)\n",
    "#5th always check indentation error,\n",
    "#6th now give else condition and statement \n",
    "#if \"if condition \" is not true then only else code \n",
    "\n",
    "x=20\n",
    "if x>=5:\n",
    "    print(\"it may be five\")\n",
    "    print(\"or it may be more than five\")\n",
    "else:\n",
    "    print(\"it is less then 5\")\n",
    "\n"
   ]
  },
  {
   "cell_type": "code",
   "execution_count": 31,
   "metadata": {},
   "outputs": [
    {
     "name": "stdout",
     "output_type": "stream",
     "text": [
      "size of one animal cell is 60 micrometer\n",
      "cell is turgid\n"
     ]
    }
   ],
   "source": [
    "cellsize=60\n",
    "print(\"size of one animal cell is\",cellsize,\"micrometer\")\n",
    "if cellsize>25:\n",
    "    print(\"cell is turgid\")\n",
    "else:\n",
    "    print(\"normal cell\")\n",
    "    "
   ]
  },
  {
   "cell_type": "code",
   "execution_count": 45,
   "metadata": {},
   "outputs": [
    {
     "name": "stdout",
     "output_type": "stream",
     "text": [
      "this primer length is ok\n"
     ]
    }
   ],
   "source": [
    "##To evaluate more than one condition, use elif\n",
    "primer=\"ATCGCTCGCTTACGCTGACAAAATTCTC\"\n",
    "seqlen=len(primer)\n",
    "if seqlen<12:\n",
    "    print(\"Ideal primer should have minimum 10 nucleoties\")\n",
    "elif seqlen<30:\n",
    "    print(\"this primer length is ok\")\n",
    "elif seqlen==25:\n",
    "    print(\"perfect primer\")\n",
    "else:\n",
    "    print(\"the primer is too long\")"
   ]
  },
  {
   "cell_type": "code",
   "execution_count": 51,
   "metadata": {},
   "outputs": [
    {
     "name": "stdout",
     "output_type": "stream",
     "text": [
      "True\n",
      "True\n",
      "False\n"
     ]
    }
   ],
   "source": [
    "#bool() function is use to check the condition is true or false\n",
    "print(bool(seqlen<30))\n",
    "print(bool(seqlen==28))\n",
    "print(bool(seqlen>100))"
   ]
  },
  {
   "cell_type": "code",
   "execution_count": 2,
   "metadata": {},
   "outputs": [
    {
     "name": "stdout",
     "output_type": "stream",
     "text": [
      "enter a name:BRCA1\n",
      "BRCA1 gene belong to chromosome 1\n"
     ]
    }
   ],
   "source": [
    "chromosome1=[\"BRCA1\",\"HER1\",\"HER2\",\"VGFR\"]\n",
    "chromosome2=[\"CDK1\",\"CDK1\",\"CDK6\"]\n",
    "chromosome2=[\"p53\",\"PAX\",\"RB\",\"BCL2\",\"INK4A\"]\n",
    "\n",
    "\n",
    "name_gene=input(\"enter a name:\")\n",
    "\n",
    "if name_gene in chromosome1:\n",
    "    print(f\"{name_gene} gene belong to chromosome 1\")\n",
    "elif name_gene in chromosome2:\n",
    "    print(f\"{name_gene} gene belong to chromosome 2\")\n",
    "elif name_gene in chromosome:\n",
    "    print(f\"{name_gene} gene belong to chromosome 3\")\n",
    "else:\n",
    "    print(\"gene not found\")\n",
    "    "
   ]
  },
  {
   "cell_type": "code",
   "execution_count": null,
   "metadata": {},
   "outputs": [],
   "source": [
    "# Write a Python program to convert temperatures to and from celsius, fahrenheit\n",
    "#convert temprature \n",
    "#formula=C/5=F-32/9\n",
    "#C=(5/9)*(F-32) #FOR CELSIUS\n",
    "#F=(C-35)*(5/9) #FOR FAHRENHEIT\n"
   ]
  },
  {
   "cell_type": "code",
   "execution_count": null,
   "metadata": {},
   "outputs": [],
   "source": [
    "temp=input(\"enter temprature with unit(e.g., 45F, 102C etc.):\")\n",
    "degree=int(temp[:-1])\n",
    "unit=temp[-1]\n",
    "\n",
    "if unit==\"C\":\n",
    "    result=int(round((9 * degree) / 5 + 32))\n",
    "    unit1=\"Fahrenheit\"\n",
    "    print(result,unit1)\n",
    "else:\n",
    "    print(\"please enter proper unit\")"
   ]
  }
 ],
 "metadata": {
  "kernelspec": {
   "display_name": "Python 3",
   "language": "python",
   "name": "python3"
  },
  "language_info": {
   "codemirror_mode": {
    "name": "ipython",
    "version": 3
   },
   "file_extension": ".py",
   "mimetype": "text/x-python",
   "name": "python",
   "nbconvert_exporter": "python",
   "pygments_lexer": "ipython3",
   "version": "3.7.6"
  }
 },
 "nbformat": 4,
 "nbformat_minor": 4
}

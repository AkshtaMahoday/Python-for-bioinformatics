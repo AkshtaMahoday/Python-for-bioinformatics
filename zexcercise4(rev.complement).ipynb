{
 "cells": [
  {
   "cell_type": "code",
   "execution_count": null,
   "metadata": {},
   "outputs": [],
   "source": [
    "seq=\"TCTTATGAGTCTTTTTAATACAAATAGCTTAACGGAATATTCATCGCTGCGTTACCCAAAGAACTCCTCTGCTCATACCGATGGTGAGAAAGGCTCTCACTGGGGCTAGACGGGCCTACAGTATAGTGCTTAATTGCTCAGAACCCCCCCTATAAGACTCGCGTCCAACTCATCCGATAGGTGTGATGCTTAGGAAAGACCGAGGTCCGCCCTCAAACCGCTGCACAAAACTATACGCACTTAGCCTTGTATAGCGGCTTGTGTGTAGGCTTGCAGCCGCTCGCGCTGTATACCTGCACGTCTTTATGAATTCGGGTAACGTTGACTGTAATTCCTTCAAGTAGCTTATCGGAGGCTTCGCAGCAGGGAGCCGTTACGTAGAAAAGTACTATCTATACTAACCCCATATTCGAGGAAGCGCGTACCGAGCGCTGGCCAGCTAGCTAAAATGCAAGATACACCGAACCCGGCTAAACAAGGCCGCCTTATCCGCTCGCTAGTTCAAGCAAATCTGTGCGCGTAAACAGTGTAAAGTATAAAGTGAAATTGATCATGTGTTGGAGATCGCTCTACTAGTATGTGAAGACGGCCCGGGGTGTGTATGGTCATGCTTACAGTACGTGGTAGGTGATAGGCATCACCCCTCATCCAGTCACTCTGAGAGAGCTAGCGTGTTCCGTGTCATGCAGACCGCTGGATTTAAGGCGGCCATGATATATCAGACGTACTCCTCAGGCCTCGTCCGGCGCTGCTATATCCGTTCCGAGGGCAATGACTGTTGCTCCGCTTACCTACCGTTTTCTGGCTATTAAGGGGGCACCTACGGCCGTCGGGGTAGTAGCCCGGAATTCAACATCGAACAGAGATCTCATATCGCTGTCCTGTAATGGCTTGAAGCTGCCTGTCAACGCAACATTCGATCGTGGGACCGGTGAGTTTACTAAGTGTCACCGGAGGGTCTATTATAAACGCATC\"\n",
    "repsec1=seq.replace(\"A\",\"t\")\n",
    "#print(repsec1)\n",
    "repsec2=repsec1.replace(\"T\",\"a\")\n",
    "#print(repsec2)\n",
    "repsec3=repsec2.replace(\"G\",\"g\")\n",
    "repsec4=repsec3.replace(\"C\",\"c\")\n",
    "#print(repsec4)\n",
    "#for upper character and reversing the sequence\n",
    "revcomp=repsec4.upper()\n",
    "revcomp=revcomp[::-1]\n",
    "print(revcomp)"
   ]
  },
  {
   "cell_type": "code",
   "execution_count": null,
   "metadata": {},
   "outputs": [],
   "source": [
    "#making a function of reversecomplement from above code\n",
    "def reversecomplement(x):\n",
    "    repsec1=x.replace(\"A\",\"t\")\n",
    "    repsec2=repsec1.replace(\"T\",\"a\")\n",
    "    repsec3=repsec2.replace(\"G\",\"g\")\n",
    "    repsec4=repsec3.replace(\"C\",\"c\")\n",
    "    revcomp=repsec4.upper()\n",
    "    revcomp=revcomp[::-1]\n",
    "    print(revcomp)\n"
   ]
  },
  {
   "cell_type": "code",
   "execution_count": null,
   "metadata": {},
   "outputs": [],
   "source": [
    "#now try our function \n",
    "y=\"ATATATCTGAGTAGCGAGCTAGCGATATAGAGTTTTTTTT\"\n",
    "reversecomplement(y)"
   ]
  },
  {
   "cell_type": "code",
   "execution_count": null,
   "metadata": {},
   "outputs": [],
   "source": [
    "#easy way\n",
    "seq= \"AAAACCCGGT\"\n",
    "st = st.replace('A', 't').replace('T', 'a').replace('C', 'g').replace('G', 'c').upper()[::-1]\n",
    "print(st)"
   ]
  }
 ],
 "metadata": {
  "kernelspec": {
   "display_name": "Python 3",
   "language": "python",
   "name": "python3"
  },
  "language_info": {
   "codemirror_mode": {
    "name": "ipython",
    "version": 3
   },
   "file_extension": ".py",
   "mimetype": "text/x-python",
   "name": "python",
   "nbconvert_exporter": "python",
   "pygments_lexer": "ipython3",
   "version": "3.7.6"
  }
 },
 "nbformat": 4,
 "nbformat_minor": 4
}

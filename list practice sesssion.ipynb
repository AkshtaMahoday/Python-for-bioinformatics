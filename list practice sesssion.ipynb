{
 "cells": [
  {
   "cell_type": "code",
   "execution_count": null,
   "metadata": {},
   "outputs": [],
   "source": [
    "#what is list-collection of different items called 'elements',separated by comma(,)\n",
    "#it is enclosed by [] \n",
    "#can multiple datatypes"
   ]
  },
  {
   "cell_type": "code",
   "execution_count": 7,
   "metadata": {},
   "outputs": [
    {
     "name": "stdout",
     "output_type": "stream",
     "text": [
      "['C. tetani', 'C. botulinum', 'C. perfringens', 'C. difficile']\n"
     ]
    }
   ],
   "source": [
    "#creating a list\n",
    "gram_pstv=[\"C. tetani\", \"C. botulinum\", \"C. perfringens\", \"C. difficile\"]\n",
    "print(gram_pstv)"
   ]
  },
  {
   "cell_type": "code",
   "execution_count": 8,
   "metadata": {},
   "outputs": [
    {
     "name": "stdout",
     "output_type": "stream",
     "text": [
      "C. botulinum,\tis an anaerobic gram positive bacteria\n"
     ]
    }
   ],
   "source": [
    "#fetching elements from the list\n",
    "Bac=(gram_pstv[1])\n",
    "print(Bac+ \",\\tis an anaerobic gram positive bacteria\")"
   ]
  },
  {
   "cell_type": "code",
   "execution_count": null,
   "metadata": {},
   "outputs": [],
   "source": [
    "# \"\\t\" -> is used for tab \n",
    "# \"\\n\" -> is used for new line"
   ]
  },
  {
   "cell_type": "code",
   "execution_count": 12,
   "metadata": {},
   "outputs": [
    {
     "name": "stdout",
     "output_type": "stream",
     "text": [
      "the index of the bacetria is,3\n"
     ]
    }
   ],
   "source": [
    "#to find the index of the element in list we use \"index\" method\n",
    "difficile=gram_pstv.index(\"C. difficile\")\n",
    "print(\"the index of the bacetria is,\"+ str(difficile))"
   ]
  },
  {
   "cell_type": "code",
   "execution_count": null,
   "metadata": {},
   "outputs": [],
   "source": [
    "#what is index -> refers to a position within a list\n",
    "#how index work in python-> it starts from zero(0)\n",
    "#(start index to end index - 1th index)"
   ]
  },
  {
   "cell_type": "code",
   "execution_count": 16,
   "metadata": {},
   "outputs": [
    {
     "name": "stdout",
     "output_type": "stream",
     "text": [
      "C. perfringens\n",
      "C. difficile\n"
     ]
    }
   ],
   "source": [
    "#if give negative number then it starts fetching from last \n",
    "bacteria1=gram_pstv[-2]\n",
    "print(bacteria1)\n",
    "bacteria2=gram_pstv[-1]\n",
    "print(bacteria2)"
   ]
  },
  {
   "cell_type": "code",
   "execution_count": 18,
   "metadata": {},
   "outputs": [
    {
     "name": "stdout",
     "output_type": "stream",
     "text": [
      "['C. tetani', 'C. botulinum', 'C. perfringens']\n"
     ]
    }
   ],
   "source": [
    "#we can find the more than one element in list\n",
    "grambac1=gram_pstv[0:3]\n",
    "print(grambac1)\n"
   ]
  },
  {
   "cell_type": "code",
   "execution_count": 3,
   "metadata": {},
   "outputs": [
    {
     "name": "stdout",
     "output_type": "stream",
     "text": [
      "list of gram positive and negative bacteria: ['C. tetani', 'C. botulinum', 'C. perfringens', 'C. difficile', 'enterococci', 'salmonella', 'pseudomonas']\n"
     ]
    }
   ],
   "source": [
    "#we can concatenate to list by + symbol\n",
    "gram_ngtv=[\"enterococci\", \"salmonella\", \"pseudomonas\"]\n",
    "gram_pstv=[\"C. tetani\", \"C. botulinum\", \"C. perfringens\", \"C. difficile\"]\n",
    "mylist=gram_pstv+gram_ngtv\n",
    "print(\"list of gram positive and negative bacteria:\", mylist)"
   ]
  },
  {
   "cell_type": "code",
   "execution_count": 4,
   "metadata": {},
   "outputs": [
    {
     "name": "stdout",
     "output_type": "stream",
     "text": [
      "['C. difficile', 'C. perfringens', 'C. botulinum', 'C. tetani']\n"
     ]
    }
   ],
   "source": [
    "#to reverse the whole list\n",
    "gram_pstv.reverse()\n",
    "print(str(gram_pstv))"
   ]
  },
  {
   "cell_type": "code",
   "execution_count": 5,
   "metadata": {},
   "outputs": [
    {
     "name": "stdout",
     "output_type": "stream",
     "text": [
      "['C. botulinum', 'C. difficile', 'C. perfringens', 'C. tetani']\n"
     ]
    }
   ],
   "source": [
    "#to sort the list from A to Z\n",
    "gram_pstv.sort()\n",
    "print(str(gram_pstv))"
   ]
  },
  {
   "cell_type": "code",
   "execution_count": null,
   "metadata": {},
   "outputs": [],
   "source": [
    "#how to delete elements from a alist\n",
    "#2 methods 1) is by del method and 2) by remove method"
   ]
  },
  {
   "cell_type": "code",
   "execution_count": 24,
   "metadata": {},
   "outputs": [
    {
     "name": "stdout",
     "output_type": "stream",
     "text": [
      "now from list 1st element deleted and final list is: ['salmonella', 'pseudomonas']\n"
     ]
    }
   ],
   "source": [
    "#del method use the index number of the element\n",
    "gram_ngtv=[\"enterococci\", \"salmonella\", \"pseudomonas\"]\n",
    "del gram_ngtv[0]\n",
    "print(\"now from list 1st element deleted and final list is:\",gram_ngtv)"
   ]
  },
  {
   "cell_type": "code",
   "execution_count": 21,
   "metadata": {},
   "outputs": [
    {
     "name": "stdout",
     "output_type": "stream",
     "text": [
      "before removal the list is: ['C. tetani', 'C. botulinum', 'C. perfringens', 'C. difficile']\n",
      "after removal the list is: ['C. tetani', 'C. botulinum', 'C. difficile']\n"
     ]
    }
   ],
   "source": [
    "#remove method, it uses the element itself to delete\n",
    "gram_pstv=[\"C. tetani\", \"C. botulinum\", \"C. perfringens\", \"C. difficile\"]\n",
    "print(\"before removal the list is:\",gram_pstv)\n",
    "gram_pstv.remove(\"C. perfringens\")\n",
    "print(\"after removal the list is:\",gram_pstv)\n",
    "#we can not remove 2 element by remove function"
   ]
  },
  {
   "cell_type": "code",
   "execution_count": 49,
   "metadata": {},
   "outputs": [
    {
     "name": "stdout",
     "output_type": "stream",
     "text": [
      "['Plantae', 'fungi', 'protista', 'monera']\n",
      "['animalia', 'Plantae', 'fungi', 'protista', 'monera']\n"
     ]
    }
   ],
   "source": [
    "#how to add elements in the list\n",
    "kingdom1=[\"Plantae\",\"fungi\",\"protista\"]\n",
    "#by append method\n",
    "kingdom1.append(\"monera\")\n",
    "print(kingdom1)\n",
    "#by insert method we can insert element in between the list\n",
    "#insert(the index number on which you want to add,\"element\")\n",
    "kingdom1.insert(0,\"animalia\")\n",
    "print(kingdom1)"
   ]
  },
  {
   "cell_type": "code",
   "execution_count": 53,
   "metadata": {},
   "outputs": [
    {
     "data": {
      "text/plain": [
       "False"
      ]
     },
     "execution_count": 53,
     "metadata": {},
     "output_type": "execute_result"
    }
   ],
   "source": [
    "#to find any element in list\n",
    "\"eukaryotics\" in kingdom1\n",
    "#the false result means no element is found"
   ]
  },
  {
   "cell_type": "code",
   "execution_count": 52,
   "metadata": {},
   "outputs": [
    {
     "data": {
      "text/plain": [
       "True"
      ]
     },
     "execution_count": 52,
     "metadata": {},
     "output_type": "execute_result"
    }
   ],
   "source": [
    "\"fungi\" in kingdom1\n",
    "#the true in output means element is present in the list"
   ]
  },
  {
   "cell_type": "code",
   "execution_count": 56,
   "metadata": {},
   "outputs": [
    {
     "data": {
      "text/plain": [
       "['animalia', 'Plantae', 'fungi', 'protista', 'Prokaryotae']"
      ]
     },
     "execution_count": 56,
     "metadata": {},
     "output_type": "execute_result"
    }
   ],
   "source": [
    "#how to replace index in a list\n",
    "kingdom1[4]=\"Prokaryotae\"\n",
    "kingdom1"
   ]
  }
 ],
 "metadata": {
  "kernelspec": {
   "display_name": "Python 3",
   "language": "python",
   "name": "python3"
  },
  "language_info": {
   "codemirror_mode": {
    "name": "ipython",
    "version": 3
   },
   "file_extension": ".py",
   "mimetype": "text/x-python",
   "name": "python",
   "nbconvert_exporter": "python",
   "pygments_lexer": "ipython3",
   "version": "3.7.6"
  }
 },
 "nbformat": 4,
 "nbformat_minor": 4
}

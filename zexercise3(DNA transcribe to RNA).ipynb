{
 "cells": [
  {
   "cell_type": "code",
   "execution_count": null,
   "metadata": {},
   "outputs": [],
   "source": [
    "#by replace command\n",
    "dna=\"GTGAAATGTTCTATCAGTAACCCAGAAGGTCTACATCACATCCTGGCGACGTAGAAACGGAAACTGATCTTCCGGTCGGGTCGCTCGATGGGTGAATGCTACTCGGGTGATGAGAGTTGGAAGTCGTACGGGGTGACTTGTAGATTTCATTTCATGGGGCTGTTAAACTAGCCGAGCACTAGGCAGAACCTGTTCTTGCTGGGAAGGTACGTGATGAAGATAGTGAGAAAGCTACTCCGTCGTCACCGTGACGTGCACATTCACTACTAGTCTGGCCAACGCTTACATCGCGGGCTTAGGTTGTCGCCCGAGGTCTGAACACCTGCCCTACCTGAGTTACTCTATCCTTGGCCGTATCGTGGGCTGTCAATACCCGAGCCCTGCTTCACCAGCAACAGTGTTCAATGTGAGGGCACGCACCGGGTTACTGCTGCTTAGAGTTTCTGGTGCTTCCAAGCGCTTGGCCCTCCACACAGTACCGTCGTGTATCACATCTGTTTGGTAGATTGCACTCGGCTTATACCATTTTATACGATGTTTGAATAGTATTCTCTGTAATTATTCGGAGTCGCGCGACAAGCCTCCTGTAGCTGCGTTGCTCTCCTCGCTGTATAAACCGCTTGGCTGTCCTTCCGAATACCTGGACGTGCACTTGACCTCGTGATTGAATCGGATACCCCCAGAGTGTACACTAATCTTCTGAAGCCCGCGGTATGACTGAGTGCCTTCGCGAAGAAGCTGCCCGCATGCCGTCCTAAGTTCGAGACCCCTCCGGTGAGTACCTGTCGTGAGAACGTGCATTGCGTTACAAAGAATTGAATATCTACACTAAATACTCCCGGTAGAGATGCGGCACAACCGTCGGGCTCTCGATTGAGGGGAGGGCCCCCGTCAATGCTTCGTAACGGAACACCAGGCCGATCCAACCACACGCACTTCTTCTCAGA\"\n",
    "replacement1 = dna.replace('T', 'U')\n",
    "print(replacement1)\n"
   ]
  },
  {
   "cell_type": "code",
   "execution_count": null,
   "metadata": {},
   "outputs": [],
   "source": [
    "#by defining it as a function\n",
    "def transcribe(x):\n",
    "    return x.replace(\"T\",\"U\")\n"
   ]
  },
  {
   "cell_type": "code",
   "execution_count": null,
   "metadata": {},
   "outputs": [],
   "source": [
    "#example with function\n",
    "dna1=\"ATTATTTTCCTCGTTTTTTTTTTCTCGTCG\"\n",
    "print(transcribe(dna1))"
   ]
  },
  {
   "cell_type": "code",
   "execution_count": null,
   "metadata": {},
   "outputs": [],
   "source": [
    "#using input function\n",
    "x= input(\"Enter DNA String: \")\n",
    "print(x.replace(\"T\",\"U\"))"
   ]
  }
 ],
 "metadata": {
  "kernelspec": {
   "display_name": "Python 3",
   "language": "python",
   "name": "python3"
  },
  "language_info": {
   "codemirror_mode": {
    "name": "ipython",
    "version": 3
   },
   "file_extension": ".py",
   "mimetype": "text/x-python",
   "name": "python",
   "nbconvert_exporter": "python",
   "pygments_lexer": "ipython3",
   "version": "3.7.6"
  }
 },
 "nbformat": 4,
 "nbformat_minor": 4
}

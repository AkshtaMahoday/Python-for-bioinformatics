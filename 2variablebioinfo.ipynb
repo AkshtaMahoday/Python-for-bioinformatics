{
 "cells": [
  {
   "cell_type": "code",
   "execution_count": null,
   "metadata": {},
   "outputs": [],
   "source": [
    "# store a short DNA sequence in the variable my_dna\n",
    "my_dna=\"ATGCTAGCTG\";\n",
    "print(my_dna)"
   ]
  },
  {
   "cell_type": "code",
   "execution_count": null,
   "metadata": {},
   "outputs": [],
   "source": [
    "#We can concatenate (stick together) two strings using the + symbol.\n",
    "my_dna=\"ATGCTAGCTG\"+\"AAAAAAAA\"\n",
    "print(my_dna)"
   ]
  },
  {
   "cell_type": "code",
   "execution_count": null,
   "metadata": {},
   "outputs": [],
   "source": [
    "mydna=my_dna+\"GGGGTTTTGTGT\"\n",
    "print(mydna)"
   ]
  },
  {
   "cell_type": "code",
   "execution_count": null,
   "metadata": {},
   "outputs": [],
   "source": [
    "my_dna=mydna+\"TTT\"+my_dna\n",
    "print(my_dna);"
   ]
  },
  {
   "cell_type": "code",
   "execution_count": null,
   "metadata": {},
   "outputs": [],
   "source": [
    "#Finding the length of a string\n",
    "len(my_dna)"
   ]
  },
  {
   "cell_type": "code",
   "execution_count": null,
   "metadata": {},
   "outputs": [],
   "source": [
    "#we can not cat the string and number togther\n",
    "x=\"the length of the dna sequence is\"+len(my_dna)"
   ]
  },
  {
   "cell_type": "code",
   "execution_count": null,
   "metadata": {},
   "outputs": [],
   "source": [
    "#but we can cat them by str function\n",
    "x=\"the length of the dna is:\"+ str(len(my_dna));\n",
    "print(x)\n",
    "#str is a function which takes one argument (whose type is number),\n",
    "#and returns a value (whose type is string) representing that number. "
   ]
  },
  {
   "cell_type": "code",
   "execution_count": null,
   "metadata": {},
   "outputs": [],
   "source": [
    "#When we use a method, we write the name of the variable first, followed by a \n",
    "#period, then the name of the method, then the method arguments in parentheses."
   ]
  },
  {
   "cell_type": "code",
   "execution_count": null,
   "metadata": {},
   "outputs": [],
   "source": [
    "#lower method\n",
    "print(my_dna.lower())"
   ]
  },
  {
   "cell_type": "code",
   "execution_count": null,
   "metadata": {},
   "outputs": [],
   "source": [
    "#upper method\n",
    "print(my_dna.upper())"
   ]
  },
  {
   "cell_type": "code",
   "execution_count": null,
   "metadata": {},
   "outputs": [],
   "source": [
    "#Replacement method belong to string type\n",
    "rnaseq=my_dna.replace(\"T\",\"U\");\n",
    "print(rnaseq);"
   ]
  },
  {
   "cell_type": "code",
   "execution_count": null,
   "metadata": {},
   "outputs": [],
   "source": [
    "#Extracting part of a string\n",
    "print(my_dna[3:8])\n",
    "t=(my_dna[-9:-1])\n",
    "print(t)\n"
   ]
  },
  {
   "cell_type": "code",
   "execution_count": null,
   "metadata": {},
   "outputs": [],
   "source": [
    "#Counting and finding substrings\n",
    "#count nucleotides\n",
    "nucleotide=my_dna.count(\"A\");\n",
    "print(nucleotide);\n",
    "\n",
    "T=my_dna.count(\"T\")\n",
    "print(T)"
   ]
  },
  {
   "cell_type": "code",
   "execution_count": null,
   "metadata": {},
   "outputs": [],
   "source": [
    "X=\"number of total thymin present in sequence=\"+str(T)\n",
    "print(X)"
   ]
  },
  {
   "cell_type": "code",
   "execution_count": null,
   "metadata": {},
   "outputs": [],
   "source": [
    "alanine=\"number of total adenine count in a sequnce=\"+str(nucleotide);\n",
    "print(alanine)"
   ]
  },
  {
   "cell_type": "code",
   "execution_count": null,
   "metadata": {},
   "outputs": [],
   "source": [
    "#find takes a single string argument and returns a number \n",
    "#which is the position at which that substring \n",
    "#first appears in the string (in computing, we call that the index of the substring)"
   ]
  },
  {
   "cell_type": "code",
   "execution_count": null,
   "metadata": {},
   "outputs": [],
   "source": [
    "my_dna=\"ATGCTAGCTG\"\n",
    "print(str(my_dna.find('C')))"
   ]
  },
  {
   "cell_type": "code",
   "execution_count": null,
   "metadata": {},
   "outputs": [],
   "source": [
    "#Both count and find have a pretty serious limitation:\n",
    "#you can only search for exact substrings"
   ]
  },
  {
   "cell_type": "code",
   "execution_count": null,
   "metadata": {},
   "outputs": [],
   "source": [
    "#Calculating AT content\n",
    "dna=\"ACTGATCGATTACGTATAGTATTTGCTATCATACATATATATCGATGCGTTCAT\"\n",
    "A=dna.count(\"A\")\n",
    "T=dna.count(\"T\")\n",
    "print(A)\n",
    "print(T)\n",
    "x=len(dna)\n",
    "print(x)\n",
    "at_count=(A+T)/x\n",
    "print(\"AT content of the sequence is:\"+str(at_count))"
   ]
  },
  {
   "cell_type": "code",
   "execution_count": null,
   "metadata": {},
   "outputs": [],
   "source": [
    "#Complementing DNA \n",
    "dna=\"ACTGATCGATTACGTATAGTATTTGCTATCATACATATATATCGATGCGTTCAT\"\n",
    "replacement1 = dna.replace('A', 'H')\n",
    "replacement2 = replacement1.replace('T', 'J')\n",
    "replacement3 = replacement2.replace('C', 'K')\n",
    "replacement4 = replacement3.replace('G', 'L')\n",
    "replacement5 = replacement4.replace('H', 'T')\n",
    "replacement6 = replacement5.replace('J', 'A')\n",
    "replacement7 = replacement6.replace('K', 'G')\n",
    "replacement8 = replacement7.replace('L', 'C')\n",
    "print(replacement8)\n"
   ]
  },
  {
   "cell_type": "code",
   "execution_count": null,
   "metadata": {},
   "outputs": [],
   "source": [
    "#Restriction fragment lengths of ECORI\n",
    "dna=\"ACTGATCGATTACGTATAGTAGAATTCTATCATACATATATATCGATGCGTTCAT\"\n",
    "frag1_length = dna.find(\"GAATTC\") + 1\n",
    "frag2_length = len(dna) - frag1_length\n",
    "print(\"length of fragment one is \" + str(frag1_length))\n",
    "print(\"length of fragment two is \" + str(frag2_length))\n"
   ]
  },
  {
   "cell_type": "code",
   "execution_count": null,
   "metadata": {},
   "outputs": [],
   "source": [
    "#Splicing out introns, part one\n",
    "#The first exon runs from the start of the sequence to the sixty-third character\n",
    "\n",
    "genome=\"ATCGATCGATCGATCGACTGACTAGTCATAGCTATGCATGTAGCTACTCGATCGATCGATCGATCGATCGATCGATCGATCGATCATGCTATCATCGATCGATATCGATGCATCGACTACTAT\"\n",
    "print(len(genome))\n",
    "exon_one=(genome[0:64])\n",
    "print(exon_one)\n"
   ]
  },
  {
   "cell_type": "code",
   "execution_count": null,
   "metadata": {},
   "outputs": [],
   "source": [
    "# second exon runs from the ninety-first character to the end of the sequence\n",
    "exon_two=(genome[91:])\n",
    "print(exon_two)\n",
    "print(len(exon_two))"
   ]
  },
  {
   "cell_type": "code",
   "execution_count": null,
   "metadata": {},
   "outputs": [],
   "source": [
    "#Splicing out introns, part three\n",
    "intron=(genome[64:91])\n",
    "print(intron)"
   ]
  },
  {
   "cell_type": "code",
   "execution_count": null,
   "metadata": {},
   "outputs": [],
   "source": [
    "#find coding length\n",
    "coding_length=len(exon_one+exon_two)\n",
    "print(\"the coding length is:\"+str(coding_length))\n",
    "total=len(genome)\n",
    "print(\"the total length of sequence is:\"+str(total))\n",
    "coding_part=100*coding_length/total\n",
    "print(\"coding part present in the genome is:\"+str(coding_part))\n"
   ]
  },
  {
   "cell_type": "code",
   "execution_count": 89,
   "metadata": {},
   "outputs": [
    {
     "name": "stdout",
     "output_type": "stream",
     "text": [
      "ATCGATCGATCGATCGACTGACTAGTCATAGCTATGCATGTAGCTACTCGATCGATCGATCGATcgatcgatcgatcgatcgatcatgctaTCATCGATCGATATCGATGCATCGACTACTAT\n"
     ]
    }
   ],
   "source": [
    "# print out the original genomic DNA sequence with coding bases in uppercase and non-coding bases in lowercase. \n",
    "intron=intron.lower()\n",
    "new_genome=exon_one+intron+exon_two\n",
    "print(new_genome)"
   ]
  },
  {
   "cell_type": "code",
   "execution_count": null,
   "metadata": {},
   "outputs": [],
   "source": []
  }
 ],
 "metadata": {
  "kernelspec": {
   "display_name": "Python 3",
   "language": "python",
   "name": "python3"
  },
  "language_info": {
   "codemirror_mode": {
    "name": "ipython",
    "version": 3
   },
   "file_extension": ".py",
   "mimetype": "text/x-python",
   "name": "python",
   "nbconvert_exporter": "python",
   "pygments_lexer": "ipython3",
   "version": "3.7.6"
  }
 },
 "nbformat": 4,
 "nbformat_minor": 4
}
